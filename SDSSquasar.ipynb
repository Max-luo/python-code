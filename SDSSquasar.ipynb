{
 "cells": [
  {
   "cell_type": "code",
   "execution_count": 19,
   "metadata": {},
   "outputs": [
    {
     "name": "stdout",
     "output_type": "stream",
     "text": [
      "Filename: ./DR14Q_v4_4.fits\n",
      "No.    Name      Ver    Type      Cards   Dimensions   Format\n",
      "  0  PRIMARY       1 PrimaryHDU      16   (7055,)   uint8   \n",
      "  1  DR14Q_v4_4    1 BinTableHDU    328   526356R x 105C   [18A, D, D, J, I, J, I, 4A, D, D, 4A, D, D, D, I, D, D, D, K, K, K, K, K, K, I, I, I, 51J, 51J, 51J, 51A, D, D, I, A, I, I, A, 5D, 5D, 5D, 5D, D, 5D, D, D, D, D, D, D, D, D, D, D, D, E, D, D, D, D, D, D, E, I, D, D, E, I, D, D, E, I, D, D, D, D, D, D, D, D, D, D, D, D, D, D, D, D, D, 4A, 4A, D, E, D, D, D, D, D, D, D, D, I, D, D, D]   \n"
     ]
    }
   ],
   "source": [
    "from astropy.io import fits\n",
    "import numpy as np\n",
    "import matplotlib.pyplot as plt\n",
    "import matplotlib.mlab as mlab\n",
    "from scipy import stats\n",
    "import pandas\n",
    "DR14Q_v4_4 = fits.open('./DR14Q_v4_4.fits')\n",
    "DR14Q_v4_4.info()\n",
    "data = DR14Q_v4_4[1].data"
   ]
  },
  {
   "cell_type": "code",
   "execution_count": 3,
   "metadata": {},
   "outputs": [],
   "source": [
    "# to get the list of data\n",
    "# criterion is redshift and whether XMM-Newton observation\n",
    "# additional criterion is whether Galactic extinction available for SDSS_DR14\n",
    "datacubelist = []\n",
    "for i in range(len(data)):\n",
    "    if 1.2 < data[i]['Z'] < 1.5:\n",
    "        if data[i]['FLUX_0.2_2.0keV'] > 0:\n",
    "            if data[i]['GAL_EXT'][0] > 0: \n",
    "                datacubelist.append(data[i])\n",
    "datacubearray = np.array(datacubelist)"
   ]
  },
  {
   "cell_type": "code",
   "execution_count": 4,
   "metadata": {},
   "outputs": [],
   "source": [
    "# If I get a name, with this function I can get the column index of datacubelist\n",
    "def Namesindex(Name):\n",
    "    for i in range(len(data.names)):\n",
    "        if Name == data.names[i]:\n",
    "            return i\n",
    "\n",
    "# Constants\n",
    "c = 3*10**10 # cm/s\n",
    "H0 = 67.8*10**5 # cm/s/Mpc\n",
    "Omega_m = 0.308\n",
    "Omega_l = 0.692\n",
    "h = 6.63*10**(-27) # erg s\n",
    "eV = 1.6*10**(-12) # erg\n",
    "Jy = 10**(-23) # erg/s/cm^2/Hz\n",
    "\n",
    "# K correction function\n",
    "def z2dL(redshift):\n",
    "    z = 0\n",
    "    dz = redshift/1000\n",
    "    integrate = 0\n",
    "    for i in range(1000):\n",
    "        integrate += dz*(Omega_m*(1+z)**3+Omega_l)**(-0.5)\n",
    "        z += dz\n",
    "    return integrate*c*(1+redshift)/H0*3.086*10**24 # return distance of unit centimeter\n",
    "def Flux2Lr_nu(obsflux,z): # Observed Flux to Luminosity of frequency nu at rest frame\n",
    "    dL = z2dL(z)\n",
    "    return 4*np.pi*dL**2*obsflux/(1+z)\n",
    "# def Flux2Lr_lambda(obsflux,z): # Observed Flux to Luminosity of wavelength lambda at rest frame\n",
    "#     dL = z2dL(z)\n",
    "#     return 4*np.pi*dL**2*(1+z)*obsflux\n",
    "def Flux2Lr(obsflux,z): # Observed Flux to Luminosity of all bandpass at rest frame \n",
    "    dL = z2dL(z)\n",
    "    return 4*np.pi*dL**2*obsflux"
   ]
  },
  {
   "cell_type": "code",
   "execution_count": 5,
   "metadata": {},
   "outputs": [],
   "source": [
    "# calculate the Luminosity of X-ray at 2keV\n",
    "def softXray_nu(index, photon_index):\n",
    "    # get the data of softXray and reshift\n",
    "    softXray = datacubelist[index][Namesindex('FLUX_0.2_2.0keV')]\n",
    "    redshift = datacubelist[index][Namesindex('Z')] \n",
    "    # convert the Flux into Luminosity of rest frame\n",
    "    softXray = Flux2Lr(softXray,redshift)\n",
    "    # We put the softXray Luminosity of bandpass and expected photon index to get the monochromatic softXray\n",
    "    lower_frequency = 0.2*10**3*eV/h*(1+redshift) # 0.2 keV redshift correction\n",
    "    upper_frequency = 2*10**3*eV/h*(1+redshift) # 2 keV redshift correction\n",
    "    # integrate function\n",
    "    def powerlaw_integrate(pl_index):\n",
    "        integrate = 0\n",
    "        nu = lower_frequency\n",
    "        dnu = (upper_frequency-lower_frequency)/1000\n",
    "        for i in range(1000):\n",
    "            integrate += dnu*nu**(pl_index)\n",
    "            nu += dnu\n",
    "        return integrate\n",
    "    def powerlaw_minus1():\n",
    "        return np.log(upper_frequency/lower_frequency)\n",
    "    # get the power law constant C in C*nu**(index)\n",
    "    C = softXray/powerlaw_integrate(1-photon_index)\n",
    "    #C = softXray/powerlaw_minus1()\n",
    "    # the frequency of 2keV at rest frame\n",
    "    nu0 = 2*10**3*eV/h\n",
    "    return [C*nu0**(1-photon_index),softXray]\n",
    "\n",
    "# get the soft X-ray luminosity at 2keV of rest frame\n",
    "# Assume that photon index = 2\n",
    "Xray2keV = np.array([])\n",
    "Xraysoftband = np.array([])\n",
    "for each in range(len(datacubelist)):\n",
    "    Xray2keV = np.append(Xray2keV, softXray_nu(each,2)[0])\n",
    "    Xraysoftband = np.append(Xraysoftband, softXray_nu(each,2)[1])"
   ]
  },
  {
   "cell_type": "code",
   "execution_count": 6,
   "metadata": {},
   "outputs": [
    {
     "data": {
      "text/plain": [
       "(array([  4.,   1.,   2.,   5.,   4.,  14.,  21.,  45.,  56.,  82., 114.,\n",
       "        178., 167., 191., 180., 136.,  89.,  75.,  28.,  23.,  11.,   4.,\n",
       "          4.,   0.,   0.,   1.,   0.,   0.,   0.,   2.]),\n",
       " array([24.58084712, 24.69730011, 24.8137531 , 24.93020608, 25.04665907,\n",
       "        25.16311205, 25.27956504, 25.39601803, 25.51247101, 25.628924  ,\n",
       "        25.74537698, 25.86182997, 25.97828295, 26.09473594, 26.21118893,\n",
       "        26.32764191, 26.4440949 , 26.56054788, 26.67700087, 26.79345386,\n",
       "        26.90990684, 27.02635983, 27.14281281, 27.2592658 , 27.37571878,\n",
       "        27.49217177, 27.60862476, 27.72507774, 27.84153073, 27.95798371,\n",
       "        28.0744367 ]),\n",
       " <a list of 30 Patch objects>)"
      ]
     },
     "execution_count": 6,
     "metadata": {},
     "output_type": "execute_result"
    },
    {
     "data": {
      "image/png": "[encoded data removed]",
      "text/plain": [
       "<Figure size 432x288 with 1 Axes>"
      ]
     },
     "metadata": {
      "needs_background": "light"
     },
     "output_type": "display_data"
    }
   ],
   "source": [
    "plt.hist(np.log10(Xray2keV), bins=30)\n",
    "#plt.xlabel('')"
   ]
  },
  {
   "cell_type": "code",
   "execution_count": 7,
   "metadata": {},
   "outputs": [],
   "source": [
    "# calculate the Luminosity of Ultroviolet 2500A of rest frame\n",
    "# 2500A will redshift to bandpass between green and red band\n",
    "def grmag2UV2500A(index):\n",
    "    # only green(g) and red(r) bands are extracted for one quasar with index\n",
    "    grmag = datacubelist[index][Namesindex('PSFMAG')][1:3]\n",
    "    grext_gl = datacubelist[index][Namesindex('GAL_EXT')][1:3]\n",
    "    grflux = 10**(-(grmag-grext_gl)/2.5)*3631*Jy\n",
    "    redshift = datacubelist[index][Namesindex('Z')]\n",
    "    flux_g, flux_r = Flux2Lr_nu(grflux,redshift) # get flux of green and red band of rest frame\n",
    "    \n",
    "    nu_2500A = c/(2500*10**(-8))\n",
    "    nu_g = c/(4770*10**(-8))*(1+redshift)\n",
    "    nu_r = c/(6231*10**(-8))*(1+redshift) # convert into frequency coordinates\n",
    "    slope = np.log(flux_g/flux_r)/np.log(nu_g/nu_r)\n",
    "    UV2500A = np.exp(np.log(flux_r) + slope*np.log(nu_2500A/nu_r))\n",
    "    #print(flux_r, flux_g)\n",
    "    # spectra index investigae\n",
    "    return [slope, UV2500A, flux_g, flux_r]\n",
    "\n",
    "UV2500A = np.array([])\n",
    "UVindex = np.array([])\n",
    "flux_g = np.array([])\n",
    "flux_r = np.array([])\n",
    "for each in range(len(datacubelist)):\n",
    "    # only green(g) and red(r) bands are extracted\n",
    "    UVindex = np.append(UVindex, grmag2UV2500A(each)[0])\n",
    "    UV2500A = np.append(UV2500A, grmag2UV2500A(each)[1])\n",
    "    flux_g = np.append(flux_g, grmag2UV2500A(each)[2])\n",
    "    flux_r = np.append(flux_r, grmag2UV2500A(each)[3])\n"
   ]
  },
  {
   "cell_type": "code",
   "execution_count": 8,
   "metadata": {},
   "outputs": [
    {
     "name": "stdout",
     "output_type": "stream",
     "text": [
      "-1.18956185358335 0.885319434027591\n"
     ]
    },
    {
     "data": {
      "text/plain": [
       "<matplotlib.legend.Legend at 0x14ec26320>"
      ]
     },
     "execution_count": 8,
     "metadata": {},
     "output_type": "execute_result"
    },
    {
     "data": {
      "image/png": "[encoded data removed]",
      "text/plain": [
       "<Figure size 432x288 with 1 Axes>"
      ]
     },
     "metadata": {
      "needs_background": "light"
     },
     "output_type": "display_data"
    }
   ],
   "source": [
    "print(np.mean(UVindex),np.std(UVindex))\n",
    "L_multi = [np.log10(UV2500A), np.log10(flux_g), np.log10(flux_r)]\n",
    "label_multi = ['UV2500A', 'gband', 'rband']\n",
    "color_multi = ['b','g','r']\n",
    "plt.hist(L_multi, bins=10, label=label_multi, alpha=1, fill=False, color=color_multi ,histtype='step',stacked=False)\n",
    "#plt.hist(np.log10(UV2500A),bins=30, label='UV2500A',color='b')\n",
    "#plt.hist(np.log10(flux_g),bins=30, label='gband',color='g')\n",
    "#plt.hist(np.log10(flux_r),bins=30, label='rband',color='r')\n",
    "#plt.hist(UVindex, bins=50)\n",
    "plt.legend()"
   ]
  },
  {
   "cell_type": "code",
   "execution_count": 9,
   "metadata": {},
   "outputs": [
    {
     "data": {
      "text/plain": [
       "<matplotlib.collections.PathCollection at 0x14f3fb438>"
      ]
     },
     "execution_count": 9,
     "metadata": {},
     "output_type": "execute_result"
    },
    {
     "data": {
      "image/png": "[encoded data removed]",
      "text/plain": [
       "<Figure size 432x288 with 1 Axes>"
      ]
     },
     "metadata": {
      "needs_background": "light"
     },
     "output_type": "display_data"
    }
   ],
   "source": [
    "#np.linspace(0,1437,1437)\n",
    "plt.scatter(np.linspace(0,1437,1437), flux_r, color='r',s=5)\n",
    "plt.scatter(np.linspace(0,1437,1437), flux_g, color='g',s=5)"
   ]
  },
  {
   "cell_type": "markdown",
   "metadata": {},
   "source": [
    "### Let's Calculate the $\\alpha_{OX}$\n",
    "\n",
    "By definition $\\alpha_{OX}$ should be:\n",
    "\n",
    "$$\\alpha_{OX} \\equiv \\frac{\\log[L_\\nu(2500A)/L_\\nu(2keV)]}{\\log[\\nu(2500A)/\\nu(2keV)]} = 0.384\\log[L_\\nu(2keV)/L_\\nu(2500A)]$$"
   ]
  },
  {
   "cell_type": "code",
   "execution_count": 10,
   "metadata": {},
   "outputs": [
    {
     "name": "stdout",
     "output_type": "stream",
     "text": [
      "[1.40230759 1.60069725 1.37279679 ... 1.34522793 1.66108432 1.35975768]\n",
      "[1.43473474 1.43047452 1.45989101 ... 1.42090006 1.47780895 1.43201368]\n",
      "0.20823040042322735 -4.7540500997625506\n"
     ]
    },
    {
     "data": {
      "image/png": "[encoded data removed]",
      "text/plain": [
       "<Figure size 432x288 with 1 Axes>"
      ]
     },
     "metadata": {
      "needs_background": "light"
     },
     "output_type": "display_data"
    }
   ],
   "source": [
    "# Alpha_OX calculator\n",
    "def alpha_OX(Xray2keV, UV2500A):\n",
    "    return -np.log10(Xray2keV/UV2500A)/2.605\n",
    "\n",
    "# figure of correlation\n",
    "alpha_OX = alpha_OX(Xray2keV, UV2500A)\n",
    "print(alpha_OX)\n",
    "print(0.114*np.log10(UV2500A)-1.975)\n",
    "plt.scatter(np.log10(UV2500A), alpha_OX, alpha=0.3, c = 'b', s=5)\n",
    "plt.plot((np.log10(UV2500A)), 0.114*np.log10(UV2500A)-1.975, c = 'k')\n",
    "plt.annotate(r'$\\alpha_{OX}=0.114\\log(L_\\nu(2500A))-1.975$',xy=(30,1.4),textcoords='offset points',xytext=(30,-30),fontsize=10,c='k')\n",
    "plt.xlabel(r'$\\log(L_\\nu(2500A)$')\n",
    "plt.ylabel(r'$\\alpha_{OX}$')\n",
    "plt.title(r'$\\alpha_{OX}\\ $''correlated with Ultraviolet Luminosity')\n",
    "\n",
    "# linear fit\n",
    "from scipy import optimize\n",
    "def f_1(x,A,B):\n",
    "    return A*x+B\n",
    "A,B = optimize.curve_fit(f_1, np.log10(UV2500A), alpha_OX)[0]\n",
    "print(A, B)\n",
    "plt.plot(np.log10(np.linspace(np.min(UV2500A),np.max(UV2500A))), A*np.log10(np.linspace(np.min(UV2500A),np.max(UV2500A)))+B,'#900302',alpha = 0.7)\n",
    "plt.annotate(r'$\\alpha_{OX}=%(Afit)s\\log(L_\\nu(2500A))%(Bfit)s$'%{\"Afit\":str(round(A,2))[0:4],\"Bfit\":str(round(B,3))[0:6]},xy=(30,1.4),\n",
    "             textcoords='offset points',xytext=(-120,60),fontsize=10,c='#900302')\n",
    "\n",
    "plt.savefig('alphaOX_LUV2500A.png', dpi=600)"
   ]
  },
  {
   "cell_type": "code",
   "execution_count": 39,
   "metadata": {},
   "outputs": [
    {
     "data": {
      "image/png": "[encoded data removed]",
      "text/plain": [
       "<Figure size 432x288 with 1 Axes>"
      ]
     },
     "metadata": {
      "needs_background": "light"
     },
     "output_type": "display_data"
    }
   ],
   "source": [
    "num_bins = 30\n",
    "mu_alpha = np.mean(alpha_OX)\n",
    "sigma_alpha = np.std(alpha_OX)\n",
    "n, bins, patches = plt.hist(alpha_OX, num_bins, density = 1, facecolor = 'blue', alpha = 0.5)\n",
    "y = scipy.stats.norm.pdf(bins, mu_alpha, sigma_alpha)#拟合一条最佳正态分布曲线y \n",
    "plt.plot(bins, y, 'k--') #绘制y的曲线 \n",
    "plt.xlabel(r'$\\alpha_{OX}$') #绘制x轴 \n",
    "plt.ylabel('Probability') #绘制y轴 \n",
    "plt.title(r'$\\alpha_{OX}\\sim N(%(mu)s,%(sigma)s)$' %{\"mu\":str(round(mu_alpha,2))[0:4], \"sigma\":str(round(sigma_alpha,2))[0:4]})\n",
    "plt.subplots_adjust(left=0.15)#左边距 "
   ]
  },
  {
   "cell_type": "code",
   "execution_count": 598,
   "metadata": {},
   "outputs": [
    {
     "name": "stdout",
     "output_type": "stream",
     "text": [
      "47\n"
     ]
    }
   ],
   "source": [
    "print(Namesindex('FLUX_0.2_2.0keV'))"
   ]
  },
  {
   "cell_type": "code",
   "execution_count": 957,
   "metadata": {},
   "outputs": [
    {
     "data": {
      "image/png": "[encoded data removed]",
      "text/plain": [
       "<Figure size 432x288 with 1 Axes>"
      ]
     },
     "metadata": {
      "needs_background": "light"
     },
     "output_type": "display_data"
    }
   ],
   "source": [
    "import matplotlib.pyplot as plt\n",
    "def UVfit(index):\n",
    "    ugrizmag = np.array(datacubelist[index][Namesindex('PSFMAG')])\n",
    "    ugrizext = np.array(datacubelist[index][Namesindex('GAL_EXT')])\n",
    "    ugrizflux = 10**(-(ugrizmag-ugrizext)/2.5)*3631*Jy  #unit: erg/s/cm^2/Hz\n",
    "    ugrizlumin = Flux2Lr_nu(ugrizflux,datacubelist[index][Namesindex('Z')])\n",
    "    ugriz = np.array([3543,4770,6231,7625,9134]) # unit: Amstrong\n",
    "\n",
    "    plt.scatter(c/(ugriz*10**(-8)/(1+np.array(datacubelist[index][Namesindex('Z')]))), ugrizlumin, label='ugriz')\n",
    "    plt.scatter(c/(2500*10**(-8)), 0.99*ugrizlumin[2], label='2500A')\n",
    "    plt.xscale('log')\n",
    "    plt.yscale('log')\n",
    "    plt.legend()\n",
    "    plt.savefig('UVfit.pdf')\n",
    "UVfit(500)"
   ]
  },
  {
   "cell_type": "code",
   "execution_count": 657,
   "metadata": {},
   "outputs": [
    {
     "data": {
      "text/plain": [
       "array([0.47941545, 0.37355727, 0.25842518, 0.19203761, 0.1428407 ])"
      ]
     },
     "execution_count": 657,
     "metadata": {},
     "output_type": "execute_result"
    }
   ],
   "source": [
    "np.array(datacubelist[1][Namesindex('GAL_EXT')])"
   ]
  },
  {
   "cell_type": "code",
   "execution_count": 403,
   "metadata": {},
   "outputs": [
    {
     "data": {
      "text/latex": [
       "$6.62607 \\times 10^{-27} \\; \\mathrm{erg\\,s}$"
      ],
      "text/plain": [
       "<Quantity 6.62607004e-27 erg s>"
      ]
     },
     "execution_count": 403,
     "metadata": {},
     "output_type": "execute_result"
    }
   ],
   "source": [
    "import astropy.constants as C\n",
    "(C.h).cgs"
   ]
  },
  {
   "cell_type": "markdown",
   "metadata": {},
   "source": [
    "<center> <font size=5>Following are testing code</font>"
   ]
  },
  {
   "cell_type": "code",
   "execution_count": 635,
   "metadata": {},
   "outputs": [
    {
     "name": "stdout",
     "output_type": "stream",
     "text": [
      "0\n"
     ]
    }
   ],
   "source": [
    "nannumber = 0\n",
    "for index in range(len(datacubelist)):\n",
    "    grmag = datacubelist[index][Namesindex('PSFMAG')][1:3]\n",
    "    grext_gl = datacubelist[index][Namesindex('GAL_EXT')][1:3]\n",
    "    grflux = 10**(-9-(grmag-grext_gl)/2.5)*3631*Jy\n",
    "    if grflux[1] == 0:\n",
    "        # print(datacubelist[index][Namesindex('PSFFLUX')])\n",
    "        nannumber += 1\n",
    "        if nannumber < 10:\n",
    "            print(datacubelist[index]['PSFMAG'], datacubelist[index]['GAL_EXT'],datacubelist[index]['PSFFLUX'])\n",
    "            print('====================================================================')\n",
    "print(nannumber)"
   ]
  },
  {
   "cell_type": "code",
   "execution_count": 636,
   "metadata": {},
   "outputs": [
    {
     "name": "stdout",
     "output_type": "stream",
     "text": [
      "0\n"
     ]
    }
   ],
   "source": [
    "nannumber = 0\n",
    "for index in range(len(datacubelist)):\n",
    "    if datacubelist[index][Namesindex('PSFFLUX')][1:2] < 0:\n",
    "        # print(datacubelist[index][Namesindex('PSFFLUX')])\n",
    "        nannumber += 1\n",
    "        if nannumber < 10:\n",
    "            print(datacubelist[index]['PSFMAG'], datacubelist[index]['GAL_EXT'],datacubelist[index]['PSFFLUX'])\n",
    "            print('====================================================================')\n",
    "print(nannumber)\n"
   ]
  },
  {
   "cell_type": "code",
   "execution_count": 535,
   "metadata": {},
   "outputs": [
    {
     "data": {
      "text/plain": [
       "1437"
      ]
     },
     "execution_count": 535,
     "metadata": {},
     "output_type": "execute_result"
    }
   ],
   "source": [
    "len(datacubelist)"
   ]
  },
  {
   "cell_type": "code",
   "execution_count": 634,
   "metadata": {},
   "outputs": [
    {
     "data": {
      "text/plain": [
       "array([1.11972964, 2.25051522, 2.90613604, 3.05413961, 4.73010159])"
      ]
     },
     "execution_count": 634,
     "metadata": {},
     "output_type": "execute_result"
    }
   ],
   "source": [
    "data[1]['PSFFLUX']"
   ]
  },
  {
   "cell_type": "code",
   "execution_count": 804,
   "metadata": {},
   "outputs": [
    {
     "data": {
      "text/plain": [
       "[<matplotlib.lines.Line2D at 0x1d8708550>]"
      ]
     },
     "execution_count": 804,
     "metadata": {},
     "output_type": "execute_result"
    },
    {
     "data": {
      "image/png": "[encoded data removed]",
      "text/plain": [
       "<Figure size 432x288 with 1 Axes>"
      ]
     },
     "metadata": {
      "needs_background": "light"
     },
     "output_type": "display_data"
    }
   ],
   "source": [
    "z = np.linspace(1.2,1.5,100)\n",
    "plt.plot(z,z2dL(z)/3.086/10**24/(1+z))"
   ]
  },
  {
   "cell_type": "code",
   "execution_count": 805,
   "metadata": {},
   "outputs": [
    {
     "data": {
      "text/plain": [
       "4481.919784932188"
      ]
     },
     "execution_count": 805,
     "metadata": {},
     "output_type": "execute_result"
    }
   ],
   "source": [
    "z2dL(1.5)/3.086/10**24/(1+1.5)"
   ]
  },
  {
   "cell_type": "code",
   "execution_count": 974,
   "metadata": {},
   "outputs": [
    {
     "name": "stdout",
     "output_type": "stream",
     "text": [
      "Help on built-in function round in module builtins:\n",
      "\n",
      "round(number, ndigits=None)\n",
      "    Round a number to a given precision in decimal digits.\n",
      "    \n",
      "    The return value is an integer if ndigits is omitted or None.  Otherwise\n",
      "    the return value has the same type as the number.  ndigits may be negative.\n",
      "\n"
     ]
    }
   ],
   "source": [
    "help(round)"
   ]
  },
  {
   "cell_type": "code",
   "execution_count": null,
   "metadata": {},
   "outputs": [],
   "source": []
  }
 ],
 "metadata": {
  "kernelspec": {
   "display_name": "Python 3",
   "language": "python",
   "name": "python3"
  },
  "language_info": {
   "codemirror_mode": {
    "name": "ipython",
    "version": 3
   },
   "file_extension": ".py",
   "mimetype": "text/x-python",
   "name": "python",
   "nbconvert_exporter": "python",
   "pygments_lexer": "ipython3",
   "version": "3.7.3"
  }
 },
 "nbformat": 4,
 "nbformat_minor": 2
}
